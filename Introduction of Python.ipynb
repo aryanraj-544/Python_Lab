{
 "cells": [
  {
   "cell_type": "code",
   "execution_count": 1,
   "id": "78a10cfa",
   "metadata": {},
   "outputs": [],
   "source": [
    "#Basic Introduction to Python"
   ]
  },
  {
   "cell_type": "code",
   "execution_count": 2,
   "id": "b0dd2983",
   "metadata": {},
   "outputs": [
    {
     "name": "stdout",
     "output_type": "stream",
     "text": [
      "Hello World\n"
     ]
    }
   ],
   "source": [
    "#What is Python?\n",
    "\n",
    "#It is a general purpose high level programming language.\n",
    "#It was developed by Guido Van Rossamin 1989 while working at national Research Institute at Netherlands.\n",
    "#Python was made avaialable officially on Feb 20th 1991.\n",
    "\n",
    "#Example:-\n",
    "#for printing HELLOWORLD:\n",
    "print(\"Hello World\")"
   ]
  },
  {
   "cell_type": "code",
   "execution_count": 3,
   "id": "db1a9969",
   "metadata": {},
   "outputs": [],
   "source": [
    "#Features of Python:\n",
    "\n",
    "#1. Simple and easy to learn\n",
    "#2. Freeware\n",
    "#3. Object Oriented and Procedure Oriented\n",
    "#4. Interpreted language\n",
    "#5. Extensive Libraries\n",
    "#6. Platform Indenpendent\n",
    "#7. Extensible and Embedded\n",
    "#8. Portability and Dynamically typed\n",
    "\n",
    "#limitations:\n",
    "\n",
    "#1. As it is interpreted language, performance isn't upto mark.\n",
    "#2. Not usable for mobile applications."
   ]
  },
  {
   "cell_type": "code",
   "execution_count": 4,
   "id": "330e01c3",
   "metadata": {},
   "outputs": [
    {
     "data": {
      "text/plain": [
       "['False',\n",
       " 'None',\n",
       " 'True',\n",
       " '__peg_parser__',\n",
       " 'and',\n",
       " 'as',\n",
       " 'assert',\n",
       " 'async',\n",
       " 'await',\n",
       " 'break',\n",
       " 'class',\n",
       " 'continue',\n",
       " 'def',\n",
       " 'del',\n",
       " 'elif',\n",
       " 'else',\n",
       " 'except',\n",
       " 'finally',\n",
       " 'for',\n",
       " 'from',\n",
       " 'global',\n",
       " 'if',\n",
       " 'import',\n",
       " 'in',\n",
       " 'is',\n",
       " 'lambda',\n",
       " 'nonlocal',\n",
       " 'not',\n",
       " 'or',\n",
       " 'pass',\n",
       " 'raise',\n",
       " 'return',\n",
       " 'try',\n",
       " 'while',\n",
       " 'with',\n",
       " 'yield']"
      ]
     },
     "execution_count": 4,
     "metadata": {},
     "output_type": "execute_result"
    }
   ],
   "source": [
    "#Reserved Words\n",
    "\n",
    "#In Python some words are reserved or pre-defined to represent some meaning or functionality called reserved words or keyword\n",
    "\n",
    "import keyword\n",
    "keyword.kwlist"
   ]
  },
  {
   "cell_type": "code",
   "execution_count": 5,
   "id": "9089ab47",
   "metadata": {},
   "outputs": [],
   "source": [
    "#Data Types\n",
    "\n",
    "#Data-type represent the type of data present inside a variable.\n",
    "\n",
    "# Text type: str()\n",
    "# Numeric type: int(), float(), complex()\n",
    "# Sequence type: list(), tuple(). range()\n",
    "# Mapping type: dict()\n",
    "# Set type: set(), frozenset()\n",
    "# Boolean type: bool()\n",
    "# Binary type: bytes(), bytearray()"
   ]
  },
  {
   "cell_type": "code",
   "execution_count": 6,
   "id": "c9c2ea3a",
   "metadata": {},
   "outputs": [
    {
     "name": "stdout",
     "output_type": "stream",
     "text": [
      "10\n"
     ]
    },
    {
     "data": {
      "text/plain": [
       "int"
      ]
     },
     "execution_count": 6,
     "metadata": {},
     "output_type": "execute_result"
    }
   ],
   "source": [
    "#int() data type:\n",
    "#We us it to represent the whole/integral numbers.\n",
    "\n",
    "a=10\n",
    "print(a)\n",
    "type(a)"
   ]
  },
  {
   "cell_type": "code",
   "execution_count": 7,
   "id": "0751a986",
   "metadata": {},
   "outputs": [
    {
     "name": "stdout",
     "output_type": "stream",
     "text": [
      "10.5\n"
     ]
    },
    {
     "data": {
      "text/plain": [
       "float"
      ]
     },
     "execution_count": 7,
     "metadata": {},
     "output_type": "execute_result"
    }
   ],
   "source": [
    "#float() data-type\n",
    "\n",
    "#We can use it to write decimal/floating point numbers.\n",
    "\n",
    "a=10.5\n",
    "print(a)\n",
    "type(a)"
   ]
  },
  {
   "cell_type": "code",
   "execution_count": 8,
   "id": "f2655a27",
   "metadata": {},
   "outputs": [
    {
     "name": "stdout",
     "output_type": "stream",
     "text": [
      "10.0\n",
      "5.0\n"
     ]
    },
    {
     "data": {
      "text/plain": [
       "complex"
      ]
     },
     "execution_count": 8,
     "metadata": {},
     "output_type": "execute_result"
    }
   ],
   "source": [
    "#complex() data-type\n",
    "\n",
    "#we can use it to represent the complex numbers.\n",
    "\n",
    "c=10+5j\n",
    "print(c.real)\n",
    "print(c.imag)\n",
    "type(c)"
   ]
  },
  {
   "cell_type": "code",
   "execution_count": 9,
   "id": "e08ec4a3",
   "metadata": {},
   "outputs": [
    {
     "name": "stdout",
     "output_type": "stream",
     "text": [
      "True\n"
     ]
    },
    {
     "data": {
      "text/plain": [
       "bool"
      ]
     },
     "execution_count": 9,
     "metadata": {},
     "output_type": "execute_result"
    }
   ],
   "source": [
    "#BOOL data-type\n",
    "\n",
    "#We can use to represent the logical values (only allowed values are True and False).\n",
    "\n",
    "flag=True\n",
    "print(flag)\n",
    "type(flag)"
   ]
  },
  {
   "cell_type": "code",
   "execution_count": null,
   "id": "9c3b3300",
   "metadata": {},
   "outputs": [],
   "source": [
    "#Conditional Statements\n",
    "#1. if statements\n",
    "#2. if-else statements\n",
    "#3. nested-if statements"
   ]
  },
  {
   "cell_type": "code",
   "execution_count": 3,
   "id": "34353457",
   "metadata": {},
   "outputs": [
    {
     "name": "stdout",
     "output_type": "stream",
     "text": [
      "A is greater than B\n"
     ]
    }
   ],
   "source": [
    "# if statement\n",
    "#when the condition is true the corresponding statement is executed other-wise there is no execution.\n",
    "\n",
    "# Syntax:\n",
    "# if condition:\n",
    "#    statement\n",
    "\n",
    "a=10\n",
    "b=20\n",
    "if b>a:\n",
    "    print(\"A is greater than B\")"
   ]
  },
  {
   "cell_type": "code",
   "execution_count": 2,
   "id": "1598e57c",
   "metadata": {},
   "outputs": [
    {
     "name": "stdout",
     "output_type": "stream",
     "text": [
      "B is greater than A\n"
     ]
    }
   ],
   "source": [
    "# if-else statement\n",
    "#when the condition is true the corresponding statement is executed other-wise the else statement is executed.\n",
    "\n",
    "# Syntax:\n",
    "# if condition:\n",
    "#    statement\n",
    "# else:\n",
    "#    statement\n",
    "\n",
    "a=10\n",
    "b=20\n",
    "if a>b:\n",
    "    print(\"A is greater than B\")\n",
    "else:\n",
    "    print(\"B is greater than A\")"
   ]
  },
  {
   "cell_type": "code",
   "execution_count": 4,
   "id": "7c53d1c3",
   "metadata": {},
   "outputs": [
    {
     "name": "stdout",
     "output_type": "stream",
     "text": [
      "C is greatest.\n"
     ]
    }
   ],
   "source": [
    "# nested-if statement\n",
    "# An if statement within another if statement is called nested-if statement.\n",
    "\n",
    "# Syntax:\n",
    "# if condition:\n",
    "#    if condition:\n",
    "#          statement\n",
    "\n",
    "a=10\n",
    "b=20\n",
    "c=30\n",
    "if a>b:\n",
    "    if a>c:\n",
    "        print(\"A is greatest.\")\n",
    "    else:\n",
    "        print(\"C is greatest.\")\n",
    "else:\n",
    "    if b>c:\n",
    "        print(\"B is greatest.\")\n",
    "    else:\n",
    "        print(\"C is greatest.\")"
   ]
  },
  {
   "cell_type": "code",
   "execution_count": 5,
   "id": "fdc7a87a",
   "metadata": {},
   "outputs": [],
   "source": [
    "# Iterative Statements\n",
    "\n",
    "#1. while loop\n",
    "#2. for loop"
   ]
  },
  {
   "cell_type": "code",
   "execution_count": 6,
   "id": "479252ef",
   "metadata": {},
   "outputs": [
    {
     "name": "stdout",
     "output_type": "stream",
     "text": [
      "1\n",
      "2\n",
      "3\n",
      "4\n",
      "5\n"
     ]
    }
   ],
   "source": [
    "# while loop\n",
    "\n",
    "#With the while loop we can execute a set of statements as long as a condition is true.\n",
    "\n",
    "#Syntax\n",
    "# while condition:\n",
    "#     statement\n",
    "\n",
    "i = 1\n",
    "while i < 6:\n",
    "  print(i)\n",
    "  i += 1\n",
    "    \n",
    "#The while loop requires relevant variables to be ready.\n",
    "#In this example we need to define an indexing variable, i, which we set to 1."
   ]
  },
  {
   "cell_type": "code",
   "execution_count": 7,
   "id": "3593b47f",
   "metadata": {},
   "outputs": [
    {
     "name": "stdout",
     "output_type": "stream",
     "text": [
      "apple\n",
      "banana\n",
      "cherry\n"
     ]
    }
   ],
   "source": [
    "# for loop\n",
    "#A for loop is used for iterating over a sequence (that is either a list, a tuple, a dictionary, a set, or a string).\n",
    "#This is less like the for keyword in other programming languages, and works more like an iterator method as found in other object-orientated programming languages.\n",
    "\n",
    "# Syntax\n",
    "#for i in data:\n",
    "#    statement\n",
    "\n",
    "fruits = [\"apple\", \"banana\", \"cherry\"]\n",
    "for x in fruits:\n",
    "  print(x)"
   ]
  },
  {
   "cell_type": "code",
   "execution_count": 8,
   "id": "09f5e9ec",
   "metadata": {},
   "outputs": [],
   "source": [
    "#Transfer Statements\n",
    "\n",
    "# break\n",
    "# continue"
   ]
  },
  {
   "cell_type": "code",
   "execution_count": 10,
   "id": "9c7dc149",
   "metadata": {},
   "outputs": [
    {
     "name": "stdout",
     "output_type": "stream",
     "text": [
      "0\n",
      "1\n",
      "2\n",
      "3\n",
      "\n",
      "1\n",
      "2\n",
      "3\n"
     ]
    }
   ],
   "source": [
    "# break statement\n",
    "# The break keyword is used to break out a for loop, or a while loop.\n",
    "\n",
    "for i in range(9): # in for loop\n",
    "  if i > 3:\n",
    "    break\n",
    "  print(i)\n",
    "\n",
    "print(\"\")\n",
    "\n",
    "i = 1\n",
    "while i < 9: # in while loop\n",
    "  print(i)\n",
    "  if i == 3:\n",
    "    break\n",
    "  i += 1"
   ]
  },
  {
   "cell_type": "code",
   "execution_count": 11,
   "id": "ec0431a0",
   "metadata": {},
   "outputs": [
    {
     "name": "stdout",
     "output_type": "stream",
     "text": [
      "0\n",
      "1\n",
      "2\n",
      "4\n",
      "5\n",
      "6\n",
      "7\n",
      "8\n",
      "\n",
      "1\n",
      "2\n",
      "4\n",
      "5\n",
      "6\n",
      "7\n",
      "8\n",
      "9\n"
     ]
    }
   ],
   "source": [
    "# continue statement\n",
    "#The continue keyword is used to end the current iteration in a for loop (or a while loop), and continues to the next iteration.\n",
    "\n",
    "for i in range(9): #in for loop\n",
    "  if i == 3:\n",
    "    continue\n",
    "  print(i)\n",
    "\n",
    "print()\n",
    "\n",
    "i = 0\n",
    "while i < 9:\n",
    "  i += 1\n",
    "  if i == 3:\n",
    "    continue\n",
    "  print(i)"
   ]
  },
  {
   "cell_type": "code",
   "execution_count": 12,
   "id": "294fc638",
   "metadata": {},
   "outputs": [],
   "source": [
    "# Functions in Python\n",
    "# A function is a block of code that runs only when it is called.\n",
    "\n",
    "# For a function to be used in Python, it has two parts:\n",
    "#1. Defining a function\n",
    "#2. Calling a function"
   ]
  },
  {
   "cell_type": "code",
   "execution_count": 13,
   "id": "8f48871b",
   "metadata": {},
   "outputs": [
    {
     "name": "stdout",
     "output_type": "stream",
     "text": [
      "Hello from a function\n"
     ]
    }
   ],
   "source": [
    "# Defining a function\n",
    "#In Python a function is defined using the def keyword\n",
    "\n",
    "# Syntax \n",
    "# def function_name()\n",
    "#     statement\n",
    "\n",
    "def my_function():\n",
    "  print(\"Hello from a function\")\n",
    "\n",
    "# Calling of a function\n",
    "#To call a function, use the function name followed by parenthesis\n",
    "\n",
    "# Syntax\n",
    "# function_name()\n",
    "\n",
    "my_function()"
   ]
  },
  {
   "cell_type": "code",
   "execution_count": 14,
   "id": "dcedfc19",
   "metadata": {},
   "outputs": [
    {
     "name": "stdout",
     "output_type": "stream",
     "text": [
      "Emil Refsnes\n",
      "Tobias Refsnes\n",
      "Linus Refsnes\n"
     ]
    }
   ],
   "source": [
    "#Arguments\n",
    "\n",
    "#Arguments are specified after the function name, inside the parentheses.\n",
    "#You can add as many arguments as you want, just separate them with a comma.\n",
    "#Information can be passed into functions as arguments.\n",
    "\n",
    "\n",
    "def my_function(fname):  # here fname is the argument that is passed to the function my_function\n",
    "  print(fname + \" Refsnes\")\n",
    "\n",
    "my_function(\"Emil\")  # here Emil is the argument that is passed\n",
    "my_function(\"Tobias\")    # here Tobias is the argument that is passed\n",
    "my_function(\"Linus\")   # here Linus is the argument that is passed"
   ]
  }
 ],
 "metadata": {
  "kernelspec": {
   "display_name": "Python 3 (ipykernel)",
   "language": "python",
   "name": "python3"
  },
  "language_info": {
   "codemirror_mode": {
    "name": "ipython",
    "version": 3
   },
   "file_extension": ".py",
   "mimetype": "text/x-python",
   "name": "python",
   "nbconvert_exporter": "python",
   "pygments_lexer": "ipython3",
   "version": "3.9.12"
  }
 },
 "nbformat": 4,
 "nbformat_minor": 5
}
