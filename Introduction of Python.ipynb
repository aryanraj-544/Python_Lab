{
 "cells": [
  {
   "cell_type": "code",
   "execution_count": 1,
   "id": "78a10cfa",
   "metadata": {},
   "outputs": [],
   "source": [
    "#Basic Introduction to Python"
   ]
  },
  {
   "cell_type": "code",
   "execution_count": 2,
   "id": "b0dd2983",
   "metadata": {},
   "outputs": [
    {
     "name": "stdout",
     "output_type": "stream",
     "text": [
      "Hello World\n"
     ]
    }
   ],
   "source": [
    "#What is Python?\n",
    "\n",
    "#It is a general purpose high level programming language.\n",
    "#It was developed by Guido Van Rossamin 1989 while working at national Research Institute at Netherlands.\n",
    "#Python was made avaialable officially on Feb 20th 1991.\n",
    "\n",
    "#Example:-\n",
    "#for printing HELLOWORLD:\n",
    "print(\"Hello World\")"
   ]
  },
  {
   "cell_type": "code",
   "execution_count": 3,
   "id": "db1a9969",
   "metadata": {},
   "outputs": [],
   "source": [
    "#Features of Python:\n",
    "\n",
    "#1. Simple and easy to learn\n",
    "#2. Freeware\n",
    "#3. Object Oriented and Procedure Oriented\n",
    "#4. Interpreted language\n",
    "#5. Extensive Libraries\n",
    "#6. Platform Indenpendent\n",
    "#7. Extensible and Embedded\n",
    "#8. Portability and Dynamically typed\n",
    "\n",
    "#limitations:\n",
    "\n",
    "#1. As it is interpreted language, performance isn't upto mark.\n",
    "#2. Not usable for mobile applications."
   ]
  },
  {
   "cell_type": "code",
   "execution_count": 4,
   "id": "330e01c3",
   "metadata": {},
   "outputs": [
    {
     "data": {
      "text/plain": [
       "['False',\n",
       " 'None',\n",
       " 'True',\n",
       " '__peg_parser__',\n",
       " 'and',\n",
       " 'as',\n",
       " 'assert',\n",
       " 'async',\n",
       " 'await',\n",
       " 'break',\n",
       " 'class',\n",
       " 'continue',\n",
       " 'def',\n",
       " 'del',\n",
       " 'elif',\n",
       " 'else',\n",
       " 'except',\n",
       " 'finally',\n",
       " 'for',\n",
       " 'from',\n",
       " 'global',\n",
       " 'if',\n",
       " 'import',\n",
       " 'in',\n",
       " 'is',\n",
       " 'lambda',\n",
       " 'nonlocal',\n",
       " 'not',\n",
       " 'or',\n",
       " 'pass',\n",
       " 'raise',\n",
       " 'return',\n",
       " 'try',\n",
       " 'while',\n",
       " 'with',\n",
       " 'yield']"
      ]
     },
     "execution_count": 4,
     "metadata": {},
     "output_type": "execute_result"
    }
   ],
   "source": [
    "#Reserved Words\n",
    "\n",
    "#In Python some words are reserved or pre-defined to represent some meaning or functionality called reserved words or keyword\n",
    "\n",
    "import keyword\n",
    "keyword.kwlist"
   ]
  },
  {
   "cell_type": "code",
   "execution_count": 5,
   "id": "9089ab47",
   "metadata": {},
   "outputs": [],
   "source": [
    "#Data Types\n",
    "\n",
    "#Data-type represent the type of data present inside a variable.\n",
    "\n",
    "# Text type: str()\n",
    "# Numeric type: int(), float(), complex()\n",
    "# Sequence type: list(), tuple(). range()\n",
    "# Mapping type: dict()\n",
    "# Set type: set(), frozenset()\n",
    "# Boolean type: bool()\n",
    "# Binary type: bytes(), bytearray()"
   ]
  },
  {
   "cell_type": "code",
   "execution_count": 6,
   "id": "c9c2ea3a",
   "metadata": {},
   "outputs": [
    {
     "name": "stdout",
     "output_type": "stream",
     "text": [
      "10\n"
     ]
    },
    {
     "data": {
      "text/plain": [
       "int"
      ]
     },
     "execution_count": 6,
     "metadata": {},
     "output_type": "execute_result"
    }
   ],
   "source": [
    "#int() data type:\n",
    "#We us it to represent the whole/integral numbers.\n",
    "\n",
    "a=10\n",
    "print(a)\n",
    "type(a)"
   ]
  },
  {
   "cell_type": "code",
   "execution_count": 7,
   "id": "0751a986",
   "metadata": {},
   "outputs": [
    {
     "name": "stdout",
     "output_type": "stream",
     "text": [
      "10.5\n"
     ]
    },
    {
     "data": {
      "text/plain": [
       "float"
      ]
     },
     "execution_count": 7,
     "metadata": {},
     "output_type": "execute_result"
    }
   ],
   "source": [
    "#float() data-type\n",
    "\n",
    "#We can use it to write decimal/floating point numbers.\n",
    "\n",
    "a=10.5\n",
    "print(a)\n",
    "type(a)"
   ]
  },
  {
   "cell_type": "code",
   "execution_count": 8,
   "id": "f2655a27",
   "metadata": {},
   "outputs": [
    {
     "name": "stdout",
     "output_type": "stream",
     "text": [
      "10.0\n",
      "5.0\n"
     ]
    },
    {
     "data": {
      "text/plain": [
       "complex"
      ]
     },
     "execution_count": 8,
     "metadata": {},
     "output_type": "execute_result"
    }
   ],
   "source": [
    "#complex() data-type\n",
    "\n",
    "#we can use it to represent the complex numbers.\n",
    "\n",
    "c=10+5j\n",
    "print(c.real)\n",
    "print(c.imag)\n",
    "type(c)"
   ]
  },
  {
   "cell_type": "code",
   "execution_count": 9,
   "id": "e08ec4a3",
   "metadata": {},
   "outputs": [
    {
     "name": "stdout",
     "output_type": "stream",
     "text": [
      "True\n"
     ]
    },
    {
     "data": {
      "text/plain": [
       "bool"
      ]
     },
     "execution_count": 9,
     "metadata": {},
     "output_type": "execute_result"
    }
   ],
   "source": [
    "#BOOL data-type\n",
    "\n",
    "#We can use to represent the logical values (only allowed values are True and False).\n",
    "\n",
    "flag=True\n",
    "print(flag)\n",
    "type(flag)"
   ]
  },
  {
   "cell_type": "code",
   "execution_count": null,
   "id": "9c3b3300",
   "metadata": {},
   "outputs": [],
   "source": [
    "#Conditional Statements\n",
    "# if statement\n",
    "\n",
    "# Syntax:\n",
    "# if condition:\n",
    "#    statement\n",
    "\n",
    "a=10\n",
    "b=20\n",
    "if a>b:\n",
    "    print(\"A is greater than B\")\n",
    "\n",
    "#when the condition is true the corresponding statement is executed other-wise there is no execution."
   ]
  },
  {
   "cell_type": "code",
   "execution_count": null,
   "id": "34353457",
   "metadata": {},
   "outputs": [],
   "source": []
  }
 ],
 "metadata": {
  "kernelspec": {
   "display_name": "Python 3 (ipykernel)",
   "language": "python",
   "name": "python3"
  },
  "language_info": {
   "codemirror_mode": {
    "name": "ipython",
    "version": 3
   },
   "file_extension": ".py",
   "mimetype": "text/x-python",
   "name": "python",
   "nbconvert_exporter": "python",
   "pygments_lexer": "ipython3",
   "version": "3.9.12"
  }
 },
 "nbformat": 4,
 "nbformat_minor": 5
}
