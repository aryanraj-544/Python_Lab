{
 "cells": [
  {
   "cell_type": "markdown",
   "id": "4f18210e",
   "metadata": {},
   "source": [
    "# Basic Introduction to Python"
   ]
  },
  {
   "cell_type": "markdown",
   "id": "4728d768",
   "metadata": {},
   "source": [
    "## What is Python?\n",
    "\n",
    "It is a general purpose high level programming language.\n",
    "It was developed by Guido Van Rossamin 1989 while working at national Research Institute at Netherlands.\n",
    "Python was made avaialable officially on Feb 20th 1991."
   ]
  },
  {
   "cell_type": "code",
   "execution_count": 1,
   "id": "6060bf24",
   "metadata": {},
   "outputs": [
    {
     "name": "stdout",
     "output_type": "stream",
     "text": [
      "Hello World\n"
     ]
    }
   ],
   "source": [
    "#Example:-\n",
    "#for printing HELLOWORLD:\n",
    "print(\"Hello World\")"
   ]
  },
  {
   "cell_type": "markdown",
   "id": "94f34625",
   "metadata": {},
   "source": [
    "## Features of Python:\n",
    "\n",
    "1. Simple and easy to learn\n",
    "2. Freeware\n",
    "3. Object Oriented and Procedure Oriented\n",
    "4. Interpreted language\n",
    "5. Extensive Libraries\n",
    "6. Platform Indenpendent\n",
    "7. Extensible and Embedded\n",
    "8. Portability and Dynamically typed\n",
    "\n",
    "### Limitations:\n",
    "\n",
    "1. As it is interpreted language, performance isn't upto mark.\n",
    "2. Not usable for mobile applications."
   ]
  },
  {
   "cell_type": "markdown",
   "id": "4703bb90",
   "metadata": {},
   "source": [
    "## Reserved Words\n",
    "\n",
    "In Python some words are reserved or pre-defined to represent some meaning or functionality called reserved words or keyword"
   ]
  },
  {
   "cell_type": "code",
   "execution_count": 2,
   "id": "330e01c3",
   "metadata": {},
   "outputs": [
    {
     "data": {
      "text/plain": [
       "['False',\n",
       " 'None',\n",
       " 'True',\n",
       " '__peg_parser__',\n",
       " 'and',\n",
       " 'as',\n",
       " 'assert',\n",
       " 'async',\n",
       " 'await',\n",
       " 'break',\n",
       " 'class',\n",
       " 'continue',\n",
       " 'def',\n",
       " 'del',\n",
       " 'elif',\n",
       " 'else',\n",
       " 'except',\n",
       " 'finally',\n",
       " 'for',\n",
       " 'from',\n",
       " 'global',\n",
       " 'if',\n",
       " 'import',\n",
       " 'in',\n",
       " 'is',\n",
       " 'lambda',\n",
       " 'nonlocal',\n",
       " 'not',\n",
       " 'or',\n",
       " 'pass',\n",
       " 'raise',\n",
       " 'return',\n",
       " 'try',\n",
       " 'while',\n",
       " 'with',\n",
       " 'yield']"
      ]
     },
     "execution_count": 2,
     "metadata": {},
     "output_type": "execute_result"
    }
   ],
   "source": [
    "import keyword\n",
    "keyword.kwlist"
   ]
  },
  {
   "cell_type": "markdown",
   "id": "c03a19c4",
   "metadata": {},
   "source": [
    "## Data Types\n",
    "\n",
    "Data-type represent the type of data present inside a variable.\n",
    "\n",
    "1. Text type: str()\n",
    "2. Numeric type: int(), float(), complex()\n",
    "3. Sequence type: list(), tuple(). range()\n",
    "4. Mapping type: dict()\n",
    "5. Set type: set(), frozenset()\n",
    "6. Boolean type: bool()\n",
    "7. Binary type: bytes(), bytearray()"
   ]
  },
  {
   "cell_type": "markdown",
   "id": "98270d2c",
   "metadata": {},
   "source": [
    "### int() data type:\n",
    "We us it to represent the whole/integral numbers.\n"
   ]
  },
  {
   "cell_type": "code",
   "execution_count": 3,
   "id": "c9c2ea3a",
   "metadata": {
    "scrolled": true
   },
   "outputs": [
    {
     "name": "stdout",
     "output_type": "stream",
     "text": [
      "10\n"
     ]
    },
    {
     "data": {
      "text/plain": [
       "int"
      ]
     },
     "execution_count": 3,
     "metadata": {},
     "output_type": "execute_result"
    }
   ],
   "source": [
    "a=10\n",
    "print(a)\n",
    "type(a)"
   ]
  },
  {
   "cell_type": "markdown",
   "id": "4956c6d3",
   "metadata": {},
   "source": [
    "### float() data-type\n",
    "\n",
    "We can use it to write decimal/floating point numbers."
   ]
  },
  {
   "cell_type": "code",
   "execution_count": 4,
   "id": "0751a986",
   "metadata": {},
   "outputs": [
    {
     "name": "stdout",
     "output_type": "stream",
     "text": [
      "10.5\n"
     ]
    },
    {
     "data": {
      "text/plain": [
       "float"
      ]
     },
     "execution_count": 4,
     "metadata": {},
     "output_type": "execute_result"
    }
   ],
   "source": [
    "a=10.5\n",
    "print(a)\n",
    "type(a)"
   ]
  },
  {
   "cell_type": "markdown",
   "id": "14f9900b",
   "metadata": {},
   "source": [
    "### complex() data-type\n",
    "\n",
    "We can use it to represent the complex numbers."
   ]
  },
  {
   "cell_type": "code",
   "execution_count": 5,
   "id": "f2655a27",
   "metadata": {},
   "outputs": [
    {
     "name": "stdout",
     "output_type": "stream",
     "text": [
      "10.0\n",
      "5.0\n"
     ]
    },
    {
     "data": {
      "text/plain": [
       "complex"
      ]
     },
     "execution_count": 5,
     "metadata": {},
     "output_type": "execute_result"
    }
   ],
   "source": [
    "c=10+5j\n",
    "print(c.real)\n",
    "print(c.imag)\n",
    "type(c)"
   ]
  },
  {
   "cell_type": "markdown",
   "id": "fb01b8a2",
   "metadata": {},
   "source": [
    "## string data-type\n",
    "It is used to represent character or group of character in Python.\n",
    "It is represented with single '' or double \" \" quotes or using str keyword."
   ]
  },
  {
   "cell_type": "code",
   "execution_count": 6,
   "id": "2b1d0a59",
   "metadata": {},
   "outputs": [
    {
     "name": "stdout",
     "output_type": "stream",
     "text": [
      "string\n",
      "<class 'str'>\n",
      "string\n",
      "<class 'str'>\n",
      "10\n",
      "<class 'str'>\n"
     ]
    }
   ],
   "source": [
    "s='string'\n",
    "a=\"string\"\n",
    "x=str(10)\n",
    "print(s)\n",
    "print(type(s))\n",
    "print(a)\n",
    "print(type(a))\n",
    "print(x)\n",
    "print(type(x))"
   ]
  },
  {
   "cell_type": "markdown",
   "id": "9364cbe7",
   "metadata": {},
   "source": [
    "## BOOL data-type\n",
    "\n",
    "We can use to represent the logical values (only allowed values are True and False)."
   ]
  },
  {
   "cell_type": "code",
   "execution_count": 7,
   "id": "e08ec4a3",
   "metadata": {},
   "outputs": [
    {
     "name": "stdout",
     "output_type": "stream",
     "text": [
      "True\n"
     ]
    },
    {
     "data": {
      "text/plain": [
       "bool"
      ]
     },
     "execution_count": 7,
     "metadata": {},
     "output_type": "execute_result"
    }
   ],
   "source": [
    "flag=True\n",
    "print(flag)\n",
    "type(flag)"
   ]
  },
  {
   "cell_type": "markdown",
   "id": "41e19b6f",
   "metadata": {},
   "source": [
    "## range data-type\n",
    "It represents a sequence of numbers and is immutable\n",
    "\n",
    "Syntax:\n",
    "    range()\n",
    "\n"
   ]
  },
  {
   "cell_type": "code",
   "execution_count": 8,
   "id": "07b526eb",
   "metadata": {},
   "outputs": [
    {
     "name": "stdout",
     "output_type": "stream",
     "text": [
      "0\n",
      "1\n",
      "2\n",
      "3\n",
      "4\n",
      "5\n",
      "6\n",
      "7\n",
      "8\n",
      "9\n"
     ]
    },
    {
     "data": {
      "text/plain": [
       "range"
      ]
     },
     "execution_count": 8,
     "metadata": {},
     "output_type": "execute_result"
    }
   ],
   "source": [
    "r=range(10)\n",
    "for i in r:\n",
    "    print(i)\n",
    "type(r)"
   ]
  },
  {
   "cell_type": "markdown",
   "id": "e5cc439a",
   "metadata": {},
   "source": [
    "## set data-type\n",
    "It represents a group of data whitout duplication adn is mutable and unindexed.\n",
    "it is written in either curly brackets {} or using set keyword.\n",
    "\n"
   ]
  },
  {
   "cell_type": "code",
   "execution_count": 9,
   "id": "a2fe428c",
   "metadata": {},
   "outputs": [
    {
     "name": "stdout",
     "output_type": "stream",
     "text": [
      "{'apple', 'banana', 'cherry'}\n",
      "<class 'set'>\n",
      "\n",
      "apple\n",
      "banana\n",
      "cherry\n"
     ]
    },
    {
     "data": {
      "text/plain": [
       "set"
      ]
     },
     "execution_count": 9,
     "metadata": {},
     "output_type": "execute_result"
    }
   ],
   "source": [
    "s={\"apple\", \"banana\",\"cherry\"}\n",
    "print(s)\n",
    "print(type(s))\n",
    "\n",
    "print()\n",
    "\n",
    "x = set(('apple', 'banana', 'cherry'))\n",
    "for i in x:\n",
    "    print(i)\n",
    "type(x)"
   ]
  },
  {
   "cell_type": "markdown",
   "id": "2ee08d1f",
   "metadata": {},
   "source": [
    "## frozenset data-type\n",
    "It is exactlys similar to set data-type except that we can't add or remove any members."
   ]
  },
  {
   "cell_type": "code",
   "execution_count": 10,
   "id": "12b6d57f",
   "metadata": {},
   "outputs": [
    {
     "name": "stdout",
     "output_type": "stream",
     "text": [
      "40\n",
      "10\n",
      "20\n",
      "30\n"
     ]
    },
    {
     "data": {
      "text/plain": [
       "frozenset"
      ]
     },
     "execution_count": 10,
     "metadata": {},
     "output_type": "execute_result"
    }
   ],
   "source": [
    "s={10,20,30,40}\n",
    "s=frozenset(s)\n",
    "for i in s:\n",
    "    print(i)\n",
    "type(s)"
   ]
  },
  {
   "cell_type": "markdown",
   "id": "9d0216df",
   "metadata": {},
   "source": [
    "## list data-type\n",
    "It is a collection of data where indexing is preserved, duplication is allowed and is mutable.\n",
    "The values are enclosed within square brackets [] or list keyword is used."
   ]
  },
  {
   "cell_type": "code",
   "execution_count": 11,
   "id": "045b467b",
   "metadata": {},
   "outputs": [
    {
     "name": "stdout",
     "output_type": "stream",
     "text": [
      "['apple', 'banana', 'cherry']\n"
     ]
    },
    {
     "data": {
      "text/plain": [
       "list"
      ]
     },
     "execution_count": 11,
     "metadata": {},
     "output_type": "execute_result"
    }
   ],
   "source": [
    "s=[\"apple\", \"banana\",\"cherry\"]\n",
    "print(s)\n",
    "type(s)"
   ]
  },
  {
   "cell_type": "markdown",
   "id": "6e79e1bc",
   "metadata": {},
   "source": [
    "## tuple data-type\n",
    "It is similar to list except that it is immutable.\n",
    "The values are represented within paranthesis () or using tuple keyword"
   ]
  },
  {
   "cell_type": "code",
   "execution_count": 12,
   "id": "218defd3",
   "metadata": {},
   "outputs": [
    {
     "name": "stdout",
     "output_type": "stream",
     "text": [
      "('apple', 'banana', 'cherry')\n"
     ]
    },
    {
     "data": {
      "text/plain": [
       "tuple"
      ]
     },
     "execution_count": 12,
     "metadata": {},
     "output_type": "execute_result"
    }
   ],
   "source": [
    "s=(\"apple\", \"banana\",\"cherry\")\n",
    "print(s)\n",
    "type(s)"
   ]
  },
  {
   "cell_type": "markdown",
   "id": "9f3c42e5",
   "metadata": {},
   "source": [
    "# dict data-type\n",
    "It is used to represent key-value pairs in Python where duplicates aren't allowed.\n",
    "\n",
    "Syntax: <br>\n",
    "var={key_value:'element'}\n"
   ]
  },
  {
   "cell_type": "code",
   "execution_count": 13,
   "id": "aa5abef9",
   "metadata": {
    "scrolled": true
   },
   "outputs": [
    {
     "name": "stdout",
     "output_type": "stream",
     "text": [
      "101 : apple\n",
      "102 : berry\n",
      "103 : cherry\n"
     ]
    },
    {
     "data": {
      "text/plain": [
       "dict"
      ]
     },
     "execution_count": 13,
     "metadata": {},
     "output_type": "execute_result"
    }
   ],
   "source": [
    "d={101:'apple', 102:'berry', 103:'cherry'}\n",
    "for i in d:\n",
    "    print(i,':', d[i])\n",
    "type(d)"
   ]
  },
  {
   "cell_type": "markdown",
   "id": "780b9b5c",
   "metadata": {},
   "source": [
    "### Conditional Statements\n",
    "1. if statements\n",
    "2. if-else statements\n",
    "3. nested-if statements"
   ]
  },
  {
   "cell_type": "markdown",
   "id": "2330be5f",
   "metadata": {},
   "source": [
    "# if statement\n",
    "When the condition is true the corresponding statement is executed other-wise there is no execution.\n",
    "\n",
    "Syntax: <p> if condition: <br>statement"
   ]
  },
  {
   "cell_type": "code",
   "execution_count": 14,
   "id": "34353457",
   "metadata": {},
   "outputs": [
    {
     "name": "stdout",
     "output_type": "stream",
     "text": [
      "A is greater than B\n"
     ]
    }
   ],
   "source": [
    "a=10\n",
    "b=20\n",
    "if b>a:\n",
    "    print(\"A is greater than B\")"
   ]
  },
  {
   "cell_type": "markdown",
   "id": "1595e617",
   "metadata": {},
   "source": [
    "## if-else statement\n",
    "When the condition is true the corresponding statement is executed other-wise the else statement is executed.\n",
    "\n",
    "Syntax:<br>if condition: <br> statement<br>\n",
    "else:<br> statement\n"
   ]
  },
  {
   "cell_type": "code",
   "execution_count": 15,
   "id": "d6c966e6",
   "metadata": {},
   "outputs": [
    {
     "name": "stdout",
     "output_type": "stream",
     "text": [
      "B is greater than A\n"
     ]
    }
   ],
   "source": [
    "a=10\n",
    "b=20\n",
    "if a>b:\n",
    "    print(\"A is greater than B\")\n",
    "else:\n",
    "    print(\"B is greater than A\")"
   ]
  },
  {
   "cell_type": "markdown",
   "id": "6636a874",
   "metadata": {},
   "source": [
    "## Nested-if statement\n",
    "An if statement within another if statement is called nested-if statement.\n",
    "\n",
    "Syntax: <br> if condition: <br> if condition: <br> statement\n"
   ]
  },
  {
   "cell_type": "code",
   "execution_count": 16,
   "id": "0cae566e",
   "metadata": {},
   "outputs": [
    {
     "name": "stdout",
     "output_type": "stream",
     "text": [
      "C is greatest.\n"
     ]
    }
   ],
   "source": [
    "a=10\n",
    "b=20\n",
    "c=30\n",
    "if a>b:\n",
    "    if a>c:\n",
    "        print(\"A is greatest.\")\n",
    "    else:\n",
    "        print(\"C is greatest.\")\n",
    "else:\n",
    "    if b>c:\n",
    "        print(\"B is greatest.\")\n",
    "    else:\n",
    "        print(\"C is greatest.\")"
   ]
  },
  {
   "cell_type": "markdown",
   "id": "f4df2ec0",
   "metadata": {},
   "source": [
    "## Iterative Statements\n",
    "\n",
    "1. while loop\n",
    "2. for loop"
   ]
  },
  {
   "cell_type": "markdown",
   "id": "34ae51e5",
   "metadata": {},
   "source": [
    "## while loop\n",
    "With the while loop we can execute a set of statements as long as a condition is true.\n",
    "\n",
    "Syntax\n",
    "<br> while condition:\n",
    "<br>    statement"
   ]
  },
  {
   "cell_type": "code",
   "execution_count": 17,
   "id": "c705aca6",
   "metadata": {},
   "outputs": [
    {
     "name": "stdout",
     "output_type": "stream",
     "text": [
      "1\n",
      "2\n",
      "3\n",
      "4\n",
      "5\n"
     ]
    }
   ],
   "source": [
    "i = 1\n",
    "while i < 6:\n",
    "  print(i)\n",
    "  i += 1\n",
    "    \n",
    "#The while loop requires relevant variables to be ready.\n",
    "#In this example we need to define an indexing variable, i, which we set to 1."
   ]
  },
  {
   "cell_type": "markdown",
   "id": "cf7498db",
   "metadata": {},
   "source": [
    "## for loop\n",
    "A for loop is used for iterating over a sequence (that is either a list, a tuple, a dictionary, a set, or a string).\n",
    "This is less like the for keyword in other programming languages, and works more like an iterator method as found in other object-orientated programming languages.\n",
    "\n",
    "Syntax\n",
    "<br>for i in data:\n",
    "<br>statement"
   ]
  },
  {
   "cell_type": "code",
   "execution_count": 18,
   "id": "1581f8ee",
   "metadata": {},
   "outputs": [
    {
     "name": "stdout",
     "output_type": "stream",
     "text": [
      "apple\n",
      "banana\n",
      "cherry\n"
     ]
    }
   ],
   "source": [
    "fruits = [\"apple\", \"banana\", \"cherry\"]\n",
    "for x in fruits:\n",
    "  print(x)"
   ]
  },
  {
   "cell_type": "markdown",
   "id": "74b9c1a1",
   "metadata": {},
   "source": [
    "## Transfer Statements\n",
    "\n",
    "1. break\n",
    "2. continue"
   ]
  },
  {
   "cell_type": "markdown",
   "id": "a4821c0e",
   "metadata": {},
   "source": [
    "## break statement\n",
    " The break keyword is used to break out a for loop, or a while loop."
   ]
  },
  {
   "cell_type": "code",
   "execution_count": 19,
   "id": "76a04832",
   "metadata": {},
   "outputs": [
    {
     "name": "stdout",
     "output_type": "stream",
     "text": [
      "0\n",
      "1\n",
      "2\n",
      "3\n",
      "\n",
      "1\n",
      "2\n",
      "3\n"
     ]
    }
   ],
   "source": [
    "for i in range(9): # in for loop\n",
    "  if i > 3:\n",
    "    break\n",
    "  print(i)\n",
    "\n",
    "print(\"\")\n",
    "\n",
    "i = 1\n",
    "while i < 9: # in while loop\n",
    "  print(i)\n",
    "  if i == 3:\n",
    "    break\n",
    "  i += 1"
   ]
  },
  {
   "cell_type": "markdown",
   "id": "85484b5a",
   "metadata": {},
   "source": [
    "## continue statement\n",
    "The continue keyword is used to end the current iteration in a for loop (or a while loop), and continues to the next iteration."
   ]
  },
  {
   "cell_type": "code",
   "execution_count": 20,
   "id": "c58dd2b3",
   "metadata": {},
   "outputs": [
    {
     "name": "stdout",
     "output_type": "stream",
     "text": [
      "0\n",
      "1\n",
      "2\n",
      "4\n",
      "5\n",
      "6\n",
      "7\n",
      "8\n",
      "\n",
      "1\n",
      "2\n",
      "4\n",
      "5\n",
      "6\n",
      "7\n",
      "8\n",
      "9\n"
     ]
    }
   ],
   "source": [
    "for i in range(9): #in for loop\n",
    "  if i == 3:\n",
    "    continue\n",
    "  print(i)\n",
    "\n",
    "print()\n",
    "\n",
    "i = 0\n",
    "while i < 9:\n",
    "  i += 1\n",
    "  if i == 3:\n",
    "    continue\n",
    "  print(i)"
   ]
  },
  {
   "cell_type": "markdown",
   "id": "5950a53f",
   "metadata": {},
   "source": [
    "# Functions in Python\n",
    "A function is a block of code that runs only when it is called.\n",
    "\n",
    "For a function to be used in Python, it has two parts:\n",
    "1. Defining a function\n",
    "2. Calling a function"
   ]
  },
  {
   "cell_type": "markdown",
   "id": "8068c7be",
   "metadata": {},
   "source": [
    "## Defining a function\n",
    "In Python a function is defined using the def keyword\n",
    "\n",
    "Syntax:\n",
    "<br>def function_name()\n",
    "<br> statement"
   ]
  },
  {
   "cell_type": "code",
   "execution_count": 21,
   "id": "e0c2efc3",
   "metadata": {},
   "outputs": [],
   "source": [
    "def my_function():\n",
    "  print(\"Hello from a function\")"
   ]
  },
  {
   "cell_type": "markdown",
   "id": "307e6d4f",
   "metadata": {},
   "source": [
    "## Calling of a function\n",
    "To call a function, use the function name followed by parenthesis\n",
    "\n",
    "Syntax\n",
    "<br> function_name()"
   ]
  },
  {
   "cell_type": "code",
   "execution_count": 22,
   "id": "57585f00",
   "metadata": {},
   "outputs": [
    {
     "name": "stdout",
     "output_type": "stream",
     "text": [
      "Hello from a function\n"
     ]
    }
   ],
   "source": [
    "my_function()"
   ]
  },
  {
   "cell_type": "markdown",
   "id": "de3e06eb",
   "metadata": {},
   "source": [
    "### Arguments\n",
    "\n",
    "Arguments are specified after the function name, inside the parentheses.\n",
    "You can add as many arguments as you want, just separate them with a comma.\n",
    "Information can be passed into functions as arguments."
   ]
  },
  {
   "cell_type": "code",
   "execution_count": 23,
   "id": "ff62d2c8",
   "metadata": {},
   "outputs": [
    {
     "name": "stdout",
     "output_type": "stream",
     "text": [
      "Emil Refsnes\n",
      "Tobias Refsnes\n",
      "Linus Refsnes\n"
     ]
    }
   ],
   "source": [
    "def my_function(fname):  # here fname is the argument that is passed to the function my_function\n",
    "  print(fname + \" Refsnes\")\n",
    "\n",
    "my_function(\"Emil\")  # here Emil is the argument that is passed\n",
    "my_function(\"Tobias\")    # here Tobias is the argument that is passed\n",
    "my_function(\"Linus\")   # here Linus is the argument that is passed"
   ]
  }
 ],
 "metadata": {
  "kernelspec": {
   "display_name": "Python 3 (ipykernel)",
   "language": "python",
   "name": "python3"
  },
  "language_info": {
   "codemirror_mode": {
    "name": "ipython",
    "version": 3
   },
   "file_extension": ".py",
   "mimetype": "text/x-python",
   "name": "python",
   "nbconvert_exporter": "python",
   "pygments_lexer": "ipython3",
   "version": "3.9.12"
  }
 },
 "nbformat": 4,
 "nbformat_minor": 5
}
